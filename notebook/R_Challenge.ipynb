{
 "cells": [
  {
   "cell_type": "markdown",
   "metadata": {},
   "source": [
    "# Deliverable 1"
   ]
  },
  {
   "cell_type": "code",
   "execution_count": 1,
   "metadata": {
    "vscode": {
     "languageId": "r"
    }
   },
   "outputs": [
    {
     "name": "stderr",
     "output_type": "stream",
     "text": [
      "\n",
      "Attaching package: ‘dplyr’\n",
      "\n",
      "\n",
      "The following objects are masked from ‘package:stats’:\n",
      "\n",
      "    filter, lag\n",
      "\n",
      "\n",
      "The following objects are masked from ‘package:base’:\n",
      "\n",
      "    intersect, setdiff, setequal, union\n",
      "\n",
      "\n"
     ]
    }
   ],
   "source": [
    "library(dplyr)"
   ]
  },
  {
   "cell_type": "code",
   "execution_count": 2,
   "metadata": {
    "vscode": {
     "languageId": "r"
    }
   },
   "outputs": [],
   "source": [
    "mpg_df <- read.csv(\n",
    "    file = '../data/MechaCar_mpg.csv',\n",
    "    check.names = F,\n",
    "    stringsAsFactors = F\n",
    ")"
   ]
  },
  {
   "cell_type": "code",
   "execution_count": 3,
   "metadata": {
    "vscode": {
     "languageId": "r"
    }
   },
   "outputs": [
    {
     "data": {
      "text/html": [
       "<table class=\"dataframe\">\n",
       "<caption>A data.frame: 6 × 6</caption>\n",
       "<thead>\n",
       "\t<tr><th></th><th scope=col>vehicle_length</th><th scope=col>vehicle_weight</th><th scope=col>spoiler_angle</th><th scope=col>ground_clearance</th><th scope=col>AWD</th><th scope=col>mpg</th></tr>\n",
       "\t<tr><th></th><th scope=col>&lt;dbl&gt;</th><th scope=col>&lt;dbl&gt;</th><th scope=col>&lt;dbl&gt;</th><th scope=col>&lt;dbl&gt;</th><th scope=col>&lt;int&gt;</th><th scope=col>&lt;dbl&gt;</th></tr>\n",
       "</thead>\n",
       "<tbody>\n",
       "\t<tr><th scope=row>1</th><td>14.69710</td><td>6407.946</td><td>48.78998</td><td>14.64098</td><td>1</td><td>49.04918</td></tr>\n",
       "\t<tr><th scope=row>2</th><td>12.53421</td><td>5182.081</td><td>90.00000</td><td>14.36668</td><td>1</td><td>36.76606</td></tr>\n",
       "\t<tr><th scope=row>3</th><td>20.00000</td><td>8337.981</td><td>78.63232</td><td>12.25371</td><td>0</td><td>80.00000</td></tr>\n",
       "\t<tr><th scope=row>4</th><td>13.42849</td><td>9419.671</td><td>55.93903</td><td>12.98936</td><td>1</td><td>18.94149</td></tr>\n",
       "\t<tr><th scope=row>5</th><td>15.44998</td><td>3772.667</td><td>26.12816</td><td>15.10396</td><td>1</td><td>63.82457</td></tr>\n",
       "\t<tr><th scope=row>6</th><td>14.45357</td><td>7286.595</td><td>30.58568</td><td>13.10695</td><td>0</td><td>48.54268</td></tr>\n",
       "</tbody>\n",
       "</table>\n"
      ],
      "text/latex": [
       "A data.frame: 6 × 6\n",
       "\\begin{tabular}{r|llllll}\n",
       "  & vehicle\\_length & vehicle\\_weight & spoiler\\_angle & ground\\_clearance & AWD & mpg\\\\\n",
       "  & <dbl> & <dbl> & <dbl> & <dbl> & <int> & <dbl>\\\\\n",
       "\\hline\n",
       "\t1 & 14.69710 & 6407.946 & 48.78998 & 14.64098 & 1 & 49.04918\\\\\n",
       "\t2 & 12.53421 & 5182.081 & 90.00000 & 14.36668 & 1 & 36.76606\\\\\n",
       "\t3 & 20.00000 & 8337.981 & 78.63232 & 12.25371 & 0 & 80.00000\\\\\n",
       "\t4 & 13.42849 & 9419.671 & 55.93903 & 12.98936 & 1 & 18.94149\\\\\n",
       "\t5 & 15.44998 & 3772.667 & 26.12816 & 15.10396 & 1 & 63.82457\\\\\n",
       "\t6 & 14.45357 & 7286.595 & 30.58568 & 13.10695 & 0 & 48.54268\\\\\n",
       "\\end{tabular}\n"
      ],
      "text/markdown": [
       "\n",
       "A data.frame: 6 × 6\n",
       "\n",
       "| <!--/--> | vehicle_length &lt;dbl&gt; | vehicle_weight &lt;dbl&gt; | spoiler_angle &lt;dbl&gt; | ground_clearance &lt;dbl&gt; | AWD &lt;int&gt; | mpg &lt;dbl&gt; |\n",
       "|---|---|---|---|---|---|---|\n",
       "| 1 | 14.69710 | 6407.946 | 48.78998 | 14.64098 | 1 | 49.04918 |\n",
       "| 2 | 12.53421 | 5182.081 | 90.00000 | 14.36668 | 1 | 36.76606 |\n",
       "| 3 | 20.00000 | 8337.981 | 78.63232 | 12.25371 | 0 | 80.00000 |\n",
       "| 4 | 13.42849 | 9419.671 | 55.93903 | 12.98936 | 1 | 18.94149 |\n",
       "| 5 | 15.44998 | 3772.667 | 26.12816 | 15.10396 | 1 | 63.82457 |\n",
       "| 6 | 14.45357 | 7286.595 | 30.58568 | 13.10695 | 0 | 48.54268 |\n",
       "\n"
      ],
      "text/plain": [
       "  vehicle_length vehicle_weight spoiler_angle ground_clearance AWD mpg     \n",
       "1 14.69710       6407.946       48.78998      14.64098         1   49.04918\n",
       "2 12.53421       5182.081       90.00000      14.36668         1   36.76606\n",
       "3 20.00000       8337.981       78.63232      12.25371         0   80.00000\n",
       "4 13.42849       9419.671       55.93903      12.98936         1   18.94149\n",
       "5 15.44998       3772.667       26.12816      15.10396         1   63.82457\n",
       "6 14.45357       7286.595       30.58568      13.10695         0   48.54268"
      ]
     },
     "metadata": {},
     "output_type": "display_data"
    }
   ],
   "source": [
    "head(mpg_df)"
   ]
  },
  {
   "cell_type": "code",
   "execution_count": 4,
   "metadata": {
    "vscode": {
     "languageId": "r"
    }
   },
   "outputs": [],
   "source": [
    "mpg_lm <- lm(mpg ~ ., data = mpg_df)"
   ]
  },
  {
   "cell_type": "code",
   "execution_count": 5,
   "metadata": {
    "vscode": {
     "languageId": "r"
    }
   },
   "outputs": [
    {
     "data": {
      "text/plain": [
       "\n",
       "Call:\n",
       "lm(formula = mpg ~ ., data = mpg_df)\n",
       "\n",
       "Residuals:\n",
       "     Min       1Q   Median       3Q      Max \n",
       "-19.4701  -4.4994  -0.0692   5.4433  18.5849 \n",
       "\n",
       "Coefficients:\n",
       "                   Estimate Std. Error t value Pr(>|t|)    \n",
       "(Intercept)      -1.040e+02  1.585e+01  -6.559 5.08e-08 ***\n",
       "vehicle_length    6.267e+00  6.553e-01   9.563 2.60e-12 ***\n",
       "vehicle_weight    1.245e-03  6.890e-04   1.807   0.0776 .  \n",
       "spoiler_angle     6.877e-02  6.653e-02   1.034   0.3069    \n",
       "ground_clearance  3.546e+00  5.412e-01   6.551 5.21e-08 ***\n",
       "AWD              -3.411e+00  2.535e+00  -1.346   0.1852    \n",
       "---\n",
       "Signif. codes:  0 ‘***’ 0.001 ‘**’ 0.01 ‘*’ 0.05 ‘.’ 0.1 ‘ ’ 1\n",
       "\n",
       "Residual standard error: 8.774 on 44 degrees of freedom\n",
       "Multiple R-squared:  0.7149,\tAdjusted R-squared:  0.6825 \n",
       "F-statistic: 22.07 on 5 and 44 DF,  p-value: 5.35e-11\n"
      ]
     },
     "metadata": {},
     "output_type": "display_data"
    }
   ],
   "source": [
    "summary(mpg_lm)"
   ]
  },
  {
   "cell_type": "markdown",
   "metadata": {},
   "source": [
    "# Deliverable 2"
   ]
  },
  {
   "cell_type": "code",
   "execution_count": 6,
   "metadata": {
    "vscode": {
     "languageId": "r"
    }
   },
   "outputs": [],
   "source": [
    "suspension_df <- read.csv(\n",
    "    file = '../data/Suspension_Coil.csv',\n",
    "    check.names = F,\n",
    "    stringsAsFactors = F\n",
    ")"
   ]
  },
  {
   "cell_type": "code",
   "execution_count": 7,
   "metadata": {
    "vscode": {
     "languageId": "r"
    }
   },
   "outputs": [
    {
     "data": {
      "text/html": [
       "<table class=\"dataframe\">\n",
       "<caption>A data.frame: 6 × 3</caption>\n",
       "<thead>\n",
       "\t<tr><th></th><th scope=col>VehicleID</th><th scope=col>Manufacturing_Lot</th><th scope=col>PSI</th></tr>\n",
       "\t<tr><th></th><th scope=col>&lt;chr&gt;</th><th scope=col>&lt;chr&gt;</th><th scope=col>&lt;int&gt;</th></tr>\n",
       "</thead>\n",
       "<tbody>\n",
       "\t<tr><th scope=row>1</th><td>V40858</td><td>Lot1</td><td>1499</td></tr>\n",
       "\t<tr><th scope=row>2</th><td>V40607</td><td>Lot1</td><td>1500</td></tr>\n",
       "\t<tr><th scope=row>3</th><td>V31443</td><td>Lot1</td><td>1500</td></tr>\n",
       "\t<tr><th scope=row>4</th><td>V6004 </td><td>Lot1</td><td>1500</td></tr>\n",
       "\t<tr><th scope=row>5</th><td>V7000 </td><td>Lot1</td><td>1501</td></tr>\n",
       "\t<tr><th scope=row>6</th><td>V17344</td><td>Lot1</td><td>1501</td></tr>\n",
       "</tbody>\n",
       "</table>\n"
      ],
      "text/latex": [
       "A data.frame: 6 × 3\n",
       "\\begin{tabular}{r|lll}\n",
       "  & VehicleID & Manufacturing\\_Lot & PSI\\\\\n",
       "  & <chr> & <chr> & <int>\\\\\n",
       "\\hline\n",
       "\t1 & V40858 & Lot1 & 1499\\\\\n",
       "\t2 & V40607 & Lot1 & 1500\\\\\n",
       "\t3 & V31443 & Lot1 & 1500\\\\\n",
       "\t4 & V6004  & Lot1 & 1500\\\\\n",
       "\t5 & V7000  & Lot1 & 1501\\\\\n",
       "\t6 & V17344 & Lot1 & 1501\\\\\n",
       "\\end{tabular}\n"
      ],
      "text/markdown": [
       "\n",
       "A data.frame: 6 × 3\n",
       "\n",
       "| <!--/--> | VehicleID &lt;chr&gt; | Manufacturing_Lot &lt;chr&gt; | PSI &lt;int&gt; |\n",
       "|---|---|---|---|\n",
       "| 1 | V40858 | Lot1 | 1499 |\n",
       "| 2 | V40607 | Lot1 | 1500 |\n",
       "| 3 | V31443 | Lot1 | 1500 |\n",
       "| 4 | V6004  | Lot1 | 1500 |\n",
       "| 5 | V7000  | Lot1 | 1501 |\n",
       "| 6 | V17344 | Lot1 | 1501 |\n",
       "\n"
      ],
      "text/plain": [
       "  VehicleID Manufacturing_Lot PSI \n",
       "1 V40858    Lot1              1499\n",
       "2 V40607    Lot1              1500\n",
       "3 V31443    Lot1              1500\n",
       "4 V6004     Lot1              1500\n",
       "5 V7000     Lot1              1501\n",
       "6 V17344    Lot1              1501"
      ]
     },
     "metadata": {},
     "output_type": "display_data"
    }
   ],
   "source": [
    "head(suspension_df)"
   ]
  },
  {
   "cell_type": "code",
   "execution_count": 8,
   "metadata": {
    "vscode": {
     "languageId": "r"
    }
   },
   "outputs": [],
   "source": [
    "suspension_summary <- summarize(\n",
    "    suspension_df,\n",
    "    Mean = mean(PSI),\n",
    "    Median = median(PSI),\n",
    "    Variance = var(PSI),\n",
    "    SD = sd(PSI)\n",
    "    )"
   ]
  },
  {
   "cell_type": "code",
   "execution_count": 9,
   "metadata": {
    "vscode": {
     "languageId": "r"
    }
   },
   "outputs": [
    {
     "name": "stdout",
     "output_type": "stream",
     "text": [
      "     Mean Median Variance       SD\n",
      "1 1498.78   1500 62.29356 7.892627\n"
     ]
    }
   ],
   "source": [
    "print(suspension_summary)"
   ]
  },
  {
   "cell_type": "code",
   "execution_count": 10,
   "metadata": {
    "vscode": {
     "languageId": "r"
    }
   },
   "outputs": [],
   "source": [
    "lot_group <- group_by(\n",
    "    suspension_df,\n",
    "    Manufacturing_Lot\n",
    "    )"
   ]
  },
  {
   "cell_type": "code",
   "execution_count": 11,
   "metadata": {
    "vscode": {
     "languageId": "r"
    }
   },
   "outputs": [],
   "source": [
    "lot_summary <- summarize(\n",
    "    lot_group,\n",
    "    Mean = mean(PSI),\n",
    "    Median = median(PSI),\n",
    "    Variance = var(PSI),\n",
    "    SD = sd(PSI)\n",
    "    )"
   ]
  },
  {
   "cell_type": "code",
   "execution_count": 12,
   "metadata": {
    "vscode": {
     "languageId": "r"
    }
   },
   "outputs": [
    {
     "name": "stdout",
     "output_type": "stream",
     "text": [
      "\u001b[90m# A tibble: 3 × 5\u001b[39m\n",
      "  Manufacturing_Lot  Mean Median Variance     SD\n",
      "  \u001b[3m\u001b[90m<chr>\u001b[39m\u001b[23m             \u001b[3m\u001b[90m<dbl>\u001b[39m\u001b[23m  \u001b[3m\u001b[90m<dbl>\u001b[39m\u001b[23m    \u001b[3m\u001b[90m<dbl>\u001b[39m\u001b[23m  \u001b[3m\u001b[90m<dbl>\u001b[39m\u001b[23m\n",
      "\u001b[90m1\u001b[39m Lot1              \u001b[4m1\u001b[24m500   \u001b[4m1\u001b[24m500     0.980  0.990\n",
      "\u001b[90m2\u001b[39m Lot2              \u001b[4m1\u001b[24m500.  \u001b[4m1\u001b[24m500     7.47   2.73 \n",
      "\u001b[90m3\u001b[39m Lot3              \u001b[4m1\u001b[24m496.  \u001b[4m1\u001b[24m498.  170.    13.0  \n"
     ]
    }
   ],
   "source": [
    "print(lot_summary)"
   ]
  },
  {
   "cell_type": "markdown",
   "metadata": {},
   "source": [
    "# Deliverable 3"
   ]
  },
  {
   "cell_type": "code",
   "execution_count": 13,
   "metadata": {
    "vscode": {
     "languageId": "r"
    }
   },
   "outputs": [],
   "source": [
    "lot1_ttest <- t.test(\n",
    "    suspension_df$PSI,\n",
    "    mu = 1500,\n",
    "    subset = Manufacturing_Lot == \"Lot1\"\n",
    ")"
   ]
  },
  {
   "cell_type": "code",
   "execution_count": 14,
   "metadata": {
    "vscode": {
     "languageId": "r"
    }
   },
   "outputs": [
    {
     "name": "stdout",
     "output_type": "stream",
     "text": [
      "\n",
      "\tOne Sample t-test\n",
      "\n",
      "data:  suspension_df$PSI\n",
      "t = -1.8931, df = 149, p-value = 0.06028\n",
      "alternative hypothesis: true mean is not equal to 1500\n",
      "95 percent confidence interval:\n",
      " 1497.507 1500.053\n",
      "sample estimates:\n",
      "mean of x \n",
      "  1498.78 \n",
      "\n"
     ]
    }
   ],
   "source": [
    "print(lot1_ttest)"
   ]
  },
  {
   "cell_type": "code",
   "execution_count": 15,
   "metadata": {
    "vscode": {
     "languageId": "r"
    }
   },
   "outputs": [],
   "source": [
    "lot2_ttest <- t.test(\n",
    "    suspension_df$PSI,\n",
    "    mu = 1500,\n",
    "    subset = Manufacturing_Lot == \"Lot2\"\n",
    ")"
   ]
  },
  {
   "cell_type": "code",
   "execution_count": 16,
   "metadata": {
    "vscode": {
     "languageId": "r"
    }
   },
   "outputs": [
    {
     "name": "stdout",
     "output_type": "stream",
     "text": [
      "\n",
      "\tOne Sample t-test\n",
      "\n",
      "data:  suspension_df$PSI\n",
      "t = -1.8931, df = 149, p-value = 0.06028\n",
      "alternative hypothesis: true mean is not equal to 1500\n",
      "95 percent confidence interval:\n",
      " 1497.507 1500.053\n",
      "sample estimates:\n",
      "mean of x \n",
      "  1498.78 \n",
      "\n"
     ]
    }
   ],
   "source": [
    "print(lot2_ttest)"
   ]
  },
  {
   "cell_type": "code",
   "execution_count": 17,
   "metadata": {
    "vscode": {
     "languageId": "r"
    }
   },
   "outputs": [],
   "source": [
    "lot3_ttest <- t.test(\n",
    "    suspension_df$PSI,\n",
    "    mu = 1500,\n",
    "    subset = Manufacturing_Lot == \"Lot3\"\n",
    ")"
   ]
  },
  {
   "cell_type": "code",
   "execution_count": 18,
   "metadata": {
    "vscode": {
     "languageId": "r"
    }
   },
   "outputs": [
    {
     "name": "stdout",
     "output_type": "stream",
     "text": [
      "\n",
      "\tOne Sample t-test\n",
      "\n",
      "data:  suspension_df$PSI\n",
      "t = -1.8931, df = 149, p-value = 0.06028\n",
      "alternative hypothesis: true mean is not equal to 1500\n",
      "95 percent confidence interval:\n",
      " 1497.507 1500.053\n",
      "sample estimates:\n",
      "mean of x \n",
      "  1498.78 \n",
      "\n"
     ]
    }
   ],
   "source": [
    "print(lot3_ttest)"
   ]
  }
 ],
 "metadata": {
  "kernelspec": {
   "display_name": "R",
   "language": "R",
   "name": "ir"
  },
  "language_info": {
   "codemirror_mode": "r",
   "file_extension": ".r",
   "mimetype": "text/x-r-source",
   "name": "R",
   "pygments_lexer": "r",
   "version": "4.1.2"
  },
  "orig_nbformat": 4
 },
 "nbformat": 4,
 "nbformat_minor": 2
}
